{
 "cells": [
  {
   "cell_type": "code",
   "execution_count": 1,
   "metadata": {
    "collapsed": true
   },
   "outputs": [],
   "source": [
    "from conjugate_gradient import ConjugateGradient\n",
    "\n",
    "import theano.tensor as T\n",
    "import numpy as np\n",
    "\n",
    "from pymanopt import Problem \n",
    "from pymanopt.manifolds import Stiefel\n",
    "\n",
    "import time\n",
    "\n",
    "import matplotlib.pyplot as plt\n",
    "%matplotlib inline"
   ]
  },
  {
   "cell_type": "code",
   "execution_count": 2,
   "metadata": {
    "collapsed": true
   },
   "outputs": [],
   "source": [
    "np.random.seed(1)\n",
    "X = T.matrix()\n"
   ]
  },
  {
   "cell_type": "code",
   "execution_count": 3,
   "metadata": {
    "collapsed": true
   },
   "outputs": [],
   "source": [
    "# fix p\n",
    "p = 3\n",
    "def dependence_n(n):\n",
    "    A = np.random.randn(n, n)\n",
    "    A = 0.5 * (A + A.T)\n",
    "    cost = T.dot(X.T, T.dot(A, X)).trace()\n",
    "    \n",
    "    # specify the manifold\n",
    "    St = Stiefel(n, p)\n",
    "    # define the problem\n",
    "    problem = Problem(manifold=St, cost=cost, arg=X, verbosity=0)\n",
    "    # pick a solver\n",
    "    solver = ConjugateGradient(maxiter=1000, mingradnorm=1e-6)\n",
    "    # solve\n",
    "    t = time.time()\n",
    "    Xopt = solver.solve(problem)\n",
    "    t = time.time() - t\n",
    "    return t"
   ]
  },
  {
   "cell_type": "code",
   "execution_count": null,
   "metadata": {
    "collapsed": true
   },
   "outputs": [],
   "source": [
    "times_n = []\n",
    "for n in np.logspace(1, 4, 40):\n",
    "    times_n.append(dependence_n(int(n)))  "
   ]
  },
  {
   "cell_type": "code",
   "execution_count": null,
   "metadata": {},
   "outputs": [],
   "source": [
    "plt.plot(np.logspace(1, 4, 40), times_n, '-o')\n",
    "plt.xscale('log')\n",
    "plt.xlabel(r'Matrix size $n$')\n",
    "plt.ylabel('Time in seconds')\n",
    "plt.title(r'Working time of $(16)$ for $p=5$')"
   ]
  },
  {
   "cell_type": "code",
   "execution_count": null,
   "metadata": {
    "collapsed": true
   },
   "outputs": [],
   "source": [
    "#fix n and matrix A\n",
    "n = 1000\n",
    "\n",
    "A = np.random.randn(n, n)\n",
    "A = 0.5 * (A + A.T)\n",
    "cost = T.dot(X.T, T.dot(A, X)).trace()\n",
    "\n",
    "def dependence_p (p):\n",
    "    St = Stiefel(n, p)\n",
    "    # define the problem\n",
    "    problem = Problem(manifold=St, cost=cost, arg=X, verbosity=0)\n",
    "    # pick a solver\n",
    "    solver = ConjugateGradient(maxiter=1000, mingradnorm=1e-6)\n",
    "    # solve\n",
    "    t = time.time()\n",
    "    Xopt = solver.solve(problem)\n",
    "    t = time.time() - t\n",
    "    return t"
   ]
  },
  {
   "cell_type": "code",
   "execution_count": null,
   "metadata": {
    "collapsed": true
   },
   "outputs": [],
   "source": [
    "times_p = []\n",
    "for p in np.linspace(3, 200, 20):\n",
    "    times_p.append(dependence_p(int(p)))"
   ]
  },
  {
   "cell_type": "code",
   "execution_count": null,
   "metadata": {
    "collapsed": true,
    "scrolled": true
   },
   "outputs": [],
   "source": [
    "plt.plot(np.linspace(3, 200, 20), times_p, '-o')\n",
    "plt.xlabel(r'Second dimension of $X$, $p$')\n",
    "plt.ylabel('Time in seconds')\n",
    "plt.title(r'Working time of $(16)$ for $n=1000$')"
   ]
  },
  {
   "cell_type": "markdown",
   "metadata": {},
   "source": [
    "---"
   ]
  }
 ],
 "metadata": {
  "kernelspec": {
   "display_name": "Python 2",
   "language": "python",
   "name": "python2"
  },
  "language_info": {
   "codemirror_mode": {
    "name": "ipython",
    "version": 2
   },
   "file_extension": ".py",
   "mimetype": "text/x-python",
   "name": "python",
   "nbconvert_exporter": "python",
   "pygments_lexer": "ipython2",
   "version": "2.7.13"
  }
 },
 "nbformat": 4,
 "nbformat_minor": 2
}
