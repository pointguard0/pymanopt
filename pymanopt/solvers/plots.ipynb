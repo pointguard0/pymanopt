{
 "cells": [
  {
   "cell_type": "code",
   "execution_count": 1,
   "metadata": {
    "collapsed": true
   },
   "outputs": [],
   "source": [
    "from conjugate_gradient import ConjugateGradient\n",
    "\n",
    "import theano.tensor as T\n",
    "import numpy as np\n",
    "\n",
    "from pymanopt import Problem \n",
    "from pymanopt.manifolds import Stiefel\n",
    "\n",
    "import time\n",
    "\n",
    "import matplotlib.pyplot as plt\n",
    "%matplotlib inline"
   ]
  },
  {
   "cell_type": "code",
   "execution_count": 18,
   "metadata": {},
   "outputs": [],
   "source": [
    "X = T.matrix()\n",
    "\n",
    "times = []\n",
    "# fix p\n",
    "p = 5\n",
    "\n",
    "for n in np.logspace(1, 4, 40):\n",
    "    n = int(n)\n",
    "    A = np.random.randn(n, n)\n",
    "    A = 0.5 * (A + A.T)\n",
    "    cost = T.dot(X.T, T.dot(A, X)).trace()\n",
    "    \n",
    "    # specify the manifold\n",
    "    St = Stiefel(n, p)\n",
    "    # define the problem\n",
    "    problem = Problem(manifold=St, cost=cost, arg=X, verbosity=0)\n",
    "    # pick a solver\n",
    "    solver = ConjugateGradient(maxiter=1000, mingradnorm=1e-6)\n",
    "    # solve\n",
    "    Xopt = solver.solve(problem)\n",
    "    t = time.time() - solver._time\n",
    "    times.append(t)"
   ]
  },
  {
   "cell_type": "code",
   "execution_count": 37,
   "metadata": {},
   "outputs": [
    {
     "data": {
      "text/plain": [
       "<matplotlib.text.Text at 0x106fc4250>"
      ]
     },
     "execution_count": 37,
     "metadata": {},
     "output_type": "execute_result"
    },
    {
     "data": {
      "image/png": "[encoded data removed]",
      "text/plain": [
       "<matplotlib.figure.Figure at 0x106951a90>"
      ]
     },
     "metadata": {},
     "output_type": "display_data"
    }
   ],
   "source": [
    "plt.plot(np.logspace(1, 4, 40), times[:40], '-o')\n",
    "plt.xscale('log')\n",
    "plt.xlabel(r'Matrix size $n$')\n",
    "plt.ylabel('Time in seconds')\n",
    "plt.title(r'Working time of $(16)$ for $p=5$')"
   ]
  },
  {
   "cell_type": "code",
   "execution_count": null,
   "metadata": {
    "collapsed": true
   },
   "outputs": [],
   "source": [
    "n = 1000\n",
    "\n",
    "A = np.random.randn(n, n)\n",
    "A = 0.5 * (A + A.T)\n",
    "cost = T.dot(X.T, T.dot(A, X)).trace()\n",
    "\n",
    "times_p = []\n",
    "for p in np.linspace(3, 500, 20):\n",
    "    p = int(p)\n",
    "    \n",
    "    # specify the manifold\n",
    "    St = Stiefel(n, p)\n",
    "    # define the problem\n",
    "    problem = Problem(manifold=St, cost=cost, arg=X, verbosity=0)\n",
    "    # pick a solver\n",
    "    solver = ConjugateGradient(maxiter=1000, mingradnorm=1e-6)\n",
    "    # solve\n",
    "    Xopt = solver.solve(problem)\n",
    "    t = time.time() - solver._time\n",
    "    times_p.append(t)"
   ]
  },
  {
   "cell_type": "code",
   "execution_count": null,
   "metadata": {
    "scrolled": true
   },
   "outputs": [],
   "source": [
    "plt.plot(np.linspace(3, 500, 20), times_p, '-o')\n",
    "plt.xlabel(r'Second dimension of $X$, $p$')\n",
    "plt.ylabel('Time in seconds')\n",
    "plt.title(r'Working time of $(16)$ for $n=1000$')"
   ]
  },
  {
   "cell_type": "markdown",
   "metadata": {},
   "source": [
    "---"
   ]
  },
  {
   "cell_type": "code",
   "execution_count": null,
   "metadata": {
    "collapsed": true
   },
   "outputs": [],
   "source": [
    "true_val = sum(sorted(np.linalg.eig(A)[0])[:p])"
   ]
  },
  {
   "cell_type": "code",
   "execution_count": null,
   "metadata": {},
   "outputs": [],
   "source": [
    "plt.plot(solver._cost, '-v')\n",
    "plt.plot(solver._gradnorm, '-*')\n",
    "plt.hlines(y=true_val, xmin=0, xmax=solver.iters + 1)"
   ]
  },
  {
   "cell_type": "code",
   "execution_count": null,
   "metadata": {
    "collapsed": true
   },
   "outputs": [],
   "source": []
  }
 ],
 "metadata": {
  "kernelspec": {
   "display_name": "Python 2",
   "language": "python",
   "name": "python2"
  },
  "language_info": {
   "codemirror_mode": {
    "name": "ipython",
    "version": 2
   },
   "file_extension": ".py",
   "mimetype": "text/x-python",
   "name": "python",
   "nbconvert_exporter": "python",
   "pygments_lexer": "ipython2",
   "version": "2.7.10"
  }
 },
 "nbformat": 4,
 "nbformat_minor": 2
}
